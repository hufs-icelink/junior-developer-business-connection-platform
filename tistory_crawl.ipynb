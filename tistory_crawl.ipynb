{
  "nbformat": 4,
  "nbformat_minor": 0,
  "metadata": {
    "colab": {
      "provenance": []
    },
    "kernelspec": {
      "name": "python3",
      "display_name": "Python 3"
    },
    "language_info": {
      "name": "python"
    }
  },
  "cells": [
    {
      "cell_type": "markdown",
      "source": [
        "**<h2>< Tistory data crawling>**"
      ],
      "metadata": {
        "id": "Y0maiuBgDMPI"
      }
    },
    {
      "cell_type": "markdown",
      "source": [
        "- 문제점 \n",
        "\n",
        "\n",
        "> 티 스토리는 각각의 테마가 따로 있어서 , html 형식이 테마마다 다르다는게 issue로 발생\n",
        "\n",
        ">*테마 1 ,테마. 2 밑에 짜여진 코드를 보면 , 같은 로직으로 돌릴때 테마 2에서는 빈값으로 처리되는 것을 볼 수 있다. 이는 두 사용자가 다른 테마를 사용하기 때문에 발생한 이슈라는 것을 알 수 있다.*\n",
        "\n",
        "- 해결방법\n",
        "\n",
        "\n",
        "\n",
        "\n",
        "\n",
        "> 기본 테마를 대상으로 if문을 돌려 , 자신의 테마에 맞게 크롤링이 되게끔 코드를 짜주는 것이 필요.\n",
        "\n",
        "\n",
        "\n",
        "\n",
        "\n",
        "\n",
        "\n"
      ],
      "metadata": {
        "id": "UN4r49vBCqU7"
      }
    },
    {
      "cell_type": "code",
      "source": [
        "import requests\n",
        "from bs4 import BeautifulSoup"
      ],
      "metadata": {
        "id": "T_e2aDFuDK3X"
      },
      "execution_count": null,
      "outputs": []
    },
    {
      "cell_type": "code",
      "source": [
        "# 테마 1\n",
        "\n",
        "def tistory():\n",
        "\n",
        "  a = input()\n",
        "\n",
        "  url = f'https://{a}.tistory.com/'\n",
        "\n",
        "  header = {'user-agent':'Mozilla/5.0 (Macintosh; Intel Mac OS X 10_15_7) AppleWebKit/537.36 (KHTML, like Gecko) Chrome/110.0.0.0 Safari/537.36',\n",
        "            'Accept-Encoding':'gzip, deflate, br' }\n",
        "\n",
        "  res = requests.get(url,headers=header)\n",
        "\n",
        "  body = BeautifulSoup(res.text ,'html.parser')\n",
        "\n",
        "  # section = body.find(\"section\",{'class':'list'})\n",
        "\n",
        "\n",
        "\n",
        "  items = body.find_all('h2',{'class':'title'})\n",
        "\n",
        "\n",
        " \n",
        "  #티스토리 title text crawl\n",
        "\n",
        "  results = []\n",
        "  for i in items:\n",
        "\n",
        "    h = i.find('a')\n",
        "\n",
        "    item = f'{h.text}'\n",
        "\n",
        "\n",
        "    results.append(item)\n",
        "\n",
        "  print(results)\n",
        "\n",
        "\n",
        "tistory()\n",
        "\n",
        "\n",
        "\n"
      ],
      "metadata": {
        "colab": {
          "base_uri": "https://localhost:8080/"
        },
        "id": "s6cxTiIX3Jp4",
        "outputId": "bd7d1737-1d0a-4116-9cec-24306d57f84e"
      },
      "execution_count": null,
      "outputs": [
        {
          "output_type": "stream",
          "name": "stdout",
          "text": [
            "yeeeon\n",
            "['[js] toFixed() 메서드', '[JS] 배열의 순서 (sort()메서드, reverse() 메서드)', '[JS]BigInt', '[JS] == , === 차이점', '[JS] 배열 특정 값 포함 여부(includes, indexOf, some, every)', '[JS] 배열에서 특정 값의 개수 구하기']\n"
          ]
        }
      ]
    },
    {
      "cell_type": "code",
      "source": [
        "#테마 2\n",
        "\n",
        "def tistory():\n",
        "\n",
        "  a = input()\n",
        "\n",
        "  url = f'https://{a}.tistory.com/'\n",
        "\n",
        "  header = {'user-agent':'Mozilla/5.0 (Macintosh; Intel Mac OS X 10_15_7) AppleWebKit/537.36 (KHTML, like Gecko) Chrome/110.0.0.0 Safari/537.36',\n",
        "            'Accept-Encoding':'gzip, deflate, br' }\n",
        "\n",
        "  res = requests.get(url,headers=header)\n",
        "\n",
        "  body = BeautifulSoup(res.text ,'html.parser')\n",
        "\n",
        "  # section = body.find(\"section\",{'class':'list'})\n",
        "\n",
        "\n",
        "\n",
        "  items = body.find_all('h2',{'class':'title'})\n",
        "\n",
        "\n",
        " \n",
        "  #티스토리 title text crawl\n",
        "\n",
        "  results = []\n",
        "  for i in items:\n",
        "\n",
        "    h = i.find('a')\n",
        "\n",
        "    item = f'{h.text}'\n",
        "\n",
        "\n",
        "    results.append(item)\n",
        "\n",
        "  print(results)\n",
        "\n",
        "\n",
        "tistory()"
      ],
      "metadata": {
        "colab": {
          "base_uri": "https://localhost:8080/"
        },
        "id": "wv4dL8dK3Jr-",
        "outputId": "dfe2b03c-3587-4afb-d09b-7075f7ddd208"
      },
      "execution_count": null,
      "outputs": [
        {
          "output_type": "stream",
          "name": "stdout",
          "text": [
            "ghrnwjd\n",
            "[]\n"
          ]
        }
      ]
    },
    {
      "cell_type": "code",
      "source": [],
      "metadata": {
        "id": "NYrTsLgS3JuE"
      },
      "execution_count": null,
      "outputs": []
    },
    {
      "cell_type": "code",
      "source": [],
      "metadata": {
        "id": "YxVjk6iW3JwI"
      },
      "execution_count": null,
      "outputs": []
    },
    {
      "cell_type": "code",
      "source": [],
      "metadata": {
        "id": "Q8TcVbOJ3JyD"
      },
      "execution_count": null,
      "outputs": []
    },
    {
      "cell_type": "code",
      "source": [],
      "metadata": {
        "id": "mrnZzPHz3J1n"
      },
      "execution_count": null,
      "outputs": []
    }
  ]
}